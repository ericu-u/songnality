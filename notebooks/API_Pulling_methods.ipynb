{
 "cells": [
  {
   "cell_type": "markdown",
   "id": "ed2edc00",
   "metadata": {},
   "source": [
    "### Step 1: Data Collection Using Spotify API"
   ]
  },
  {
   "cell_type": "code",
   "execution_count": 1,
   "id": "70cb3254",
   "metadata": {},
   "outputs": [],
   "source": [
    "# Imports woooo!\n",
    "import spotipy\n",
    "from spotipy.oauth2 import SpotifyOAuth\n",
    "import collections\n",
    "import pandas as pd"
   ]
  },
  {
   "cell_type": "code",
   "execution_count": 4,
   "id": "9dd39cec-787e-4f58-b34e-9f33be1b5fdf",
   "metadata": {},
   "outputs": [],
   "source": [
    "# Import Spotify API information\n",
    "from config import client_id, client_secret"
   ]
  },
  {
   "cell_type": "code",
   "execution_count": 5,
   "id": "bd82d900",
   "metadata": {},
   "outputs": [],
   "source": [
    "# Scopes to define Spotify permissions\n",
    "scope = 'user-library-read playlist-read-private user-top-read'"
   ]
  },
  {
   "cell_type": "code",
   "execution_count": 6,
   "id": "a56db1f7",
   "metadata": {},
   "outputs": [
    {
     "ename": "NameError",
     "evalue": "name 'redirect_uri' is not defined",
     "output_type": "error",
     "traceback": [
      "\u001b[1;31m---------------------------------------------------------------------------\u001b[0m",
      "\u001b[1;31mNameError\u001b[0m                                 Traceback (most recent call last)",
      "Cell \u001b[1;32mIn[6], line 2\u001b[0m\n\u001b[0;32m      1\u001b[0m \u001b[38;5;66;03m# Initiate API Query Object\u001b[39;00m\n\u001b[1;32m----> 2\u001b[0m sp \u001b[38;5;241m=\u001b[39m spotipy\u001b[38;5;241m.\u001b[39mSpotify(auth_manager\u001b[38;5;241m=\u001b[39mSpotifyOAuth(client_id\u001b[38;5;241m=\u001b[39mclient_id,client_secret\u001b[38;5;241m=\u001b[39mclient_secret, redirect_uri\u001b[38;5;241m=\u001b[39mredirect_uri,scope\u001b[38;5;241m=\u001b[39mscope))\n",
      "\u001b[1;31mNameError\u001b[0m: name 'redirect_uri' is not defined"
     ]
    }
   ],
   "source": [
    "# Initiate API Query Object\n",
    "sp = spotipy.Spotify(auth_manager=SpotifyOAuth(client_id=client_id,client_secret=client_secret, redirect_uri=redirect_uri,scope=scope))"
   ]
  },
  {
   "cell_type": "code",
   "execution_count": 5,
   "id": "c957e312",
   "metadata": {},
   "outputs": [
    {
     "data": {
      "text/plain": [
       "{'display_name': 'ericwyeah',\n",
       " 'external_urls': {'spotify': 'https://open.spotify.com/user/ericwyeah'},\n",
       " 'followers': {'href': None, 'total': 15},\n",
       " 'href': 'https://api.spotify.com/v1/users/ericwyeah',\n",
       " 'id': 'ericwyeah',\n",
       " 'images': [{'height': None,\n",
       "   'url': 'https://i.scdn.co/image/ab6775700000ee850608af8b68d924da27603720',\n",
       "   'width': None}],\n",
       " 'type': 'user',\n",
       " 'uri': 'spotify:user:ericwyeah'}"
      ]
     },
     "execution_count": 5,
     "metadata": {},
     "output_type": "execute_result"
    }
   ],
   "source": [
    "# Initial check if API is working as intended\n",
    "sp.current_user()"
   ]
  },
  {
   "cell_type": "markdown",
   "id": "566232cd",
   "metadata": {},
   "source": [
    "### Step 2: Pull Current User's Top Tracks"
   ]
  },
  {
   "cell_type": "code",
   "execution_count": 6,
   "id": "de2ec90c",
   "metadata": {},
   "outputs": [],
   "source": [
    "top_query = sp.current_user_top_tracks(limit=20, offset=0, time_range='medium_term')['items']"
   ]
  },
  {
   "cell_type": "code",
   "execution_count": 7,
   "id": "35224813",
   "metadata": {},
   "outputs": [],
   "source": [
    "# Create function to retrieve list of top tracks for current user\n",
    "def get_top_tracks():\n",
    "    top_tracks = []\n",
    "    \n",
    "    base_uri = 'https://api.spotify.com/v1'\n",
    "\n",
    "    top_query = sp.current_user_top_tracks(limit=20, offset=0, time_range='medium_term')['items']\n",
    "    for entry in top_query:\n",
    "        artists = []\n",
    "        for artist in entry['artists']:\n",
    "            artists.append(artist['name'])\n",
    "        top_tracks.append({'artists': artists, 'track_id': entry['id'], 'name': entry['name'], 'preview_url': entry['preview_url'], 'image': entry['album']['images'][-1]['url']})\n",
    "    \n",
    "    for track in top_tracks:\n",
    "        if len(track['artists']) > 1:\n",
    "            track['display_info'] = track['name'] + ' by ' + ' and '.join(track['artists'])\n",
    "        else:\n",
    "            track['display_info'] = track['name'] + ' by ' + track['artists'][0]\n",
    "    \n",
    "    return top_tracks"
   ]
  },
  {
   "cell_type": "code",
   "execution_count": 8,
   "id": "f36d5c8c",
   "metadata": {},
   "outputs": [
    {
     "data": {
      "text/plain": [
       "{'artists': ['Magic Man'],\n",
       " 'track_id': '4EaO2XR7gWaHq8DW7nu1iY',\n",
       " 'name': 'Paris',\n",
       " 'preview_url': 'https://p.scdn.co/mp3-preview/5d6ff173f44b7efea949d27adf931fc541f384c9?cid=d3f619ebc4e148348b7c292d61418501',\n",
       " 'image': 'https://i.scdn.co/image/ab67616d00004851c0d5f377e45b39d3ea7c7b67',\n",
       " 'display_info': 'Paris by Magic Man'}"
      ]
     },
     "execution_count": 8,
     "metadata": {},
     "output_type": "execute_result"
    }
   ],
   "source": [
    "top_tracks = get_top_tracks()\n",
    "top_tracks[0]"
   ]
  },
  {
   "cell_type": "code",
   "execution_count": 9,
   "id": "7332ea42",
   "metadata": {},
   "outputs": [],
   "source": [
    "# Create function to format tracks to include track name and artist name\n",
    "def format_tracks(track_list):\n",
    "    display_text = []\n",
    "\n",
    "    for track in track_list:\n",
    "        if len(track['artists']) > 1:\n",
    "            display_text.append(track['name'] + ' by ' + ' and '.join(track['artists']))\n",
    "        else:\n",
    "            display_text.append(track['name'] + ' by ' + track['artists'][0])\n",
    "    return display_text"
   ]
  },
  {
   "cell_type": "code",
   "execution_count": 10,
   "id": "99fa38f0",
   "metadata": {},
   "outputs": [
    {
     "data": {
      "text/plain": [
       "'Paris by Magic Man'"
      ]
     },
     "execution_count": 10,
     "metadata": {},
     "output_type": "execute_result"
    }
   ],
   "source": [
    "format_tracks(top_tracks)[0]"
   ]
  },
  {
   "cell_type": "markdown",
   "id": "f23c19b2",
   "metadata": {},
   "source": [
    "### Step 3: Test Search Functionality (for implementation in web app)"
   ]
  },
  {
   "cell_type": "code",
   "execution_count": 11,
   "id": "1b52b1e2",
   "metadata": {},
   "outputs": [],
   "source": [
    "# Example query of Lizzo\n",
    "query = 'Lizzo'"
   ]
  },
  {
   "cell_type": "code",
   "execution_count": 12,
   "id": "00568f69",
   "metadata": {},
   "outputs": [],
   "source": [
    "# Create function to return list of search results based on search query\n",
    "def search_tracks(query):\n",
    "    search_results = sp.search(q=query, type='track,artist')\n",
    "    search_tracks = []\n",
    "\n",
    "    for entry in search_results['tracks']['items']:\n",
    "        artists = []\n",
    "        for artist in entry['artists']:\n",
    "            artists.append(artist['name'])\n",
    "        search_tracks.append({'artists': artists, 'track_id': entry['id'], 'name': entry['name'], 'preview_url': entry['preview_url'], 'image': entry['album']['images'][-1]['url']})\n",
    "    return search_tracks"
   ]
  },
  {
   "cell_type": "code",
   "execution_count": 13,
   "id": "909b64a4",
   "metadata": {},
   "outputs": [
    {
     "data": {
      "text/plain": [
       "{'artists': ['Lizzo', 'Cardi B'],\n",
       " 'track_id': '6KgtcmCF9Ky68XC7ezxl3s',\n",
       " 'name': 'Rumors (feat. Cardi B)',\n",
       " 'preview_url': 'https://p.scdn.co/mp3-preview/252a7be97bc9172a9aca8552abf964783bc24cec?cid=d3f619ebc4e148348b7c292d61418501',\n",
       " 'image': 'https://i.scdn.co/image/ab67616d00004851324290e5b99a797b99e247bb'}"
      ]
     },
     "execution_count": 13,
     "metadata": {},
     "output_type": "execute_result"
    }
   ],
   "source": [
    "search_results = search_tracks(query)\n",
    "search_results[0]"
   ]
  },
  {
   "cell_type": "code",
   "execution_count": 14,
   "id": "beacdb03",
   "metadata": {},
   "outputs": [
    {
     "data": {
      "text/plain": [
       "'Rumors (feat. Cardi B) by Lizzo and Cardi B'"
      ]
     },
     "execution_count": 14,
     "metadata": {},
     "output_type": "execute_result"
    }
   ],
   "source": [
    "format_tracks(search_results)[0]"
   ]
  },
  {
   "cell_type": "markdown",
   "id": "ee9856b7",
   "metadata": {},
   "source": [
    "### Step 4: Test Retrieving Current User's Playlists and their Tracks (for implementation in web app)"
   ]
  },
  {
   "cell_type": "code",
   "execution_count": 15,
   "id": "f679876c",
   "metadata": {},
   "outputs": [],
   "source": [
    "# Use Spotify API Object to pull current user's playlists\n",
    "playlists = sp.current_user_playlists(limit=50, offset=0)['items']"
   ]
  },
  {
   "cell_type": "code",
   "execution_count": 16,
   "id": "2423e633",
   "metadata": {},
   "outputs": [],
   "source": [
    "# Format playlist information for user viewing\n",
    "playlist_display = [entry['name'] + ' by ' + entry['owner']['display_name'] for entry in playlists]"
   ]
  },
  {
   "cell_type": "code",
   "execution_count": 17,
   "id": "752a57a6",
   "metadata": {
    "scrolled": true
   },
   "outputs": [
    {
     "data": {
      "text/plain": [
       "'My Playlist by ericwyeah'"
      ]
     },
     "execution_count": 17,
     "metadata": {},
     "output_type": "execute_result"
    }
   ],
   "source": [
    "playlist_display[0]"
   ]
  },
  {
   "cell_type": "code",
   "execution_count": 18,
   "id": "5d29434c",
   "metadata": {},
   "outputs": [],
   "source": [
    "# Create list of current user's playlists\n",
    "def query_playlists():\n",
    "    playlists_list = []\n",
    "    playlists = sp.current_user_playlists(limit=50, offset=0)['items']\n",
    "    for playlist in playlists:\n",
    "        playlists_list.append({'name': playlist['name'], 'display_info': (playlist['name'] + ' by ' + playlist['owner']['display_name']), 'owner': playlist['owner']['display_name'], 'playlist_id': playlist['id'], 'image': playlist['images'][-1]['url']})\n",
    "    return playlists_list\n",
    "\n",
    "# Format user's playlists\n",
    "def format_playlists(playlists_list):\n",
    "    formatted_playlists = [entry['name'] + ' by ' + entry['owner'] for entry in playlists_list]\n",
    "    return formatted_playlists"
   ]
  },
  {
   "cell_type": "code",
   "execution_count": 19,
   "id": "e1a3a6bd",
   "metadata": {},
   "outputs": [
    {
     "data": {
      "text/plain": [
       "'My Playlist by ericwyeah'"
      ]
     },
     "execution_count": 19,
     "metadata": {},
     "output_type": "execute_result"
    }
   ],
   "source": [
    "playlist_list = query_playlists()\n",
    "format_playlists(playlist_list)[0]"
   ]
  },
  {
   "cell_type": "code",
   "execution_count": 20,
   "id": "f163ffd2",
   "metadata": {},
   "outputs": [
    {
     "data": {
      "text/plain": [
       "{'name': 'My Playlist',\n",
       " 'display_info': 'My Playlist by ericwyeah',\n",
       " 'owner': 'ericwyeah',\n",
       " 'playlist_id': '75fV6pcpgTv0xLOadc343I',\n",
       " 'image': 'https://i.scdn.co/image/ab67616d0000b2733a2cc6c5cdd9f07a95efa51b'}"
      ]
     },
     "execution_count": 20,
     "metadata": {},
     "output_type": "execute_result"
    }
   ],
   "source": [
    "playlist_list[0]"
   ]
  },
  {
   "cell_type": "code",
   "execution_count": 21,
   "id": "9bd24010",
   "metadata": {},
   "outputs": [],
   "source": [
    "# Create function that returns list of tracks in specified playlist\n",
    "def tracks_in_playlist(username, playlist_id):\n",
    "    playlist_tracks = []\n",
    "\n",
    "    playlist_query = sp.user_playlist_tracks(username, playlist_id)['items']\n",
    "    for entry in playlist_query:\n",
    "        artists = []\n",
    "        for artist in entry['track']['artists']:\n",
    "            artists.append(artist['name'])\n",
    "\n",
    "        playlist_tracks.append({'artists': artists, 'track_id': entry['track']['id'], 'name': entry['track']['name'], 'preview_url': entry['track']['preview_url'], 'image': entry['track']['album']['images'][-1]['url']})\n",
    "    return playlist_tracks"
   ]
  },
  {
   "cell_type": "code",
   "execution_count": 70,
   "id": "5013eb36",
   "metadata": {},
   "outputs": [
    {
     "data": {
      "text/plain": [
       "{'collaborative': False,\n",
       " 'description': '',\n",
       " 'external_urls': {'spotify': 'https://open.spotify.com/playlist/75fV6pcpgTv0xLOadc343I'},\n",
       " 'href': 'https://api.spotify.com/v1/playlists/75fV6pcpgTv0xLOadc343I',\n",
       " 'id': '75fV6pcpgTv0xLOadc343I',\n",
       " 'images': [{'height': 640,\n",
       "   'url': 'https://i.scdn.co/image/ab67616d0000b2733a2cc6c5cdd9f07a95efa51b',\n",
       "   'width': 640}],\n",
       " 'name': 'My Playlist',\n",
       " 'owner': {'display_name': 'ericwyeah',\n",
       "  'external_urls': {'spotify': 'https://open.spotify.com/user/ericwyeah'},\n",
       "  'href': 'https://api.spotify.com/v1/users/ericwyeah',\n",
       "  'id': 'ericwyeah',\n",
       "  'type': 'user',\n",
       "  'uri': 'spotify:user:ericwyeah'},\n",
       " 'primary_color': None,\n",
       " 'public': None,\n",
       " 'snapshot_id': 'MywzMWQ4MDkxOGE2YjAxNDkwMjExZDFjNWNiMmVhZjM5YTEwMDc0Y2Yx',\n",
       " 'tracks': {'href': 'https://api.spotify.com/v1/playlists/75fV6pcpgTv0xLOadc343I/tracks',\n",
       "  'total': 1},\n",
       " 'type': 'playlist',\n",
       " 'uri': 'spotify:playlist:75fV6pcpgTv0xLOadc343I'}"
      ]
     },
     "execution_count": 70,
     "metadata": {},
     "output_type": "execute_result"
    }
   ],
   "source": [
    "sp.search(q='My Playlist',type='playlist')['playlists']['items'][0]"
   ]
  },
  {
   "cell_type": "code",
   "execution_count": 23,
   "id": "38244618",
   "metadata": {},
   "outputs": [],
   "source": [
    "def query_playlist_id(playlist_name, playlist_list):\n",
    "    return next(item for item in playlist_list if item[\"name\"] == playlist_name)['playlist_id']"
   ]
  },
  {
   "cell_type": "code",
   "execution_count": 24,
   "id": "094c465a",
   "metadata": {},
   "outputs": [
    {
     "data": {
      "text/plain": [
       "'75fV6pcpgTv0xLOadc343I'"
      ]
     },
     "execution_count": 24,
     "metadata": {},
     "output_type": "execute_result"
    }
   ],
   "source": [
    "query_playlist_id('My Playlist', playlist_list)"
   ]
  },
  {
   "cell_type": "code",
   "execution_count": 25,
   "id": "3780a2e6",
   "metadata": {},
   "outputs": [
    {
     "data": {
      "text/plain": [
       "'Hello World'"
      ]
     },
     "execution_count": 25,
     "metadata": {},
     "output_type": "execute_result"
    }
   ],
   "source": [
    "# Name of first track in playlist ;)\n",
    "tracks_in_playlist('ericwyeah', playlist_list[0]['playlist_id'])[0]['name']"
   ]
  },
  {
   "cell_type": "markdown",
   "id": "c6777c78",
   "metadata": {},
   "source": [
    "### Step 5: Create a Function to Evaluate Tracks' Features"
   ]
  },
  {
   "cell_type": "code",
   "execution_count": 26,
   "id": "0a6e6ec5",
   "metadata": {},
   "outputs": [],
   "source": [
    "def get_track_features(track_ids):\n",
    "    audio_features = sp.audio_features(track_ids)\n",
    "    return audio_features"
   ]
  },
  {
   "cell_type": "code",
   "execution_count": 27,
   "id": "83c98e62",
   "metadata": {},
   "outputs": [],
   "source": [
    "top_tracks_ids = [entry['track_id'] for entry in top_tracks]\n",
    "top_track_features = get_track_features(top_tracks_ids)"
   ]
  },
  {
   "cell_type": "code",
   "execution_count": 28,
   "id": "0da4cfc8",
   "metadata": {},
   "outputs": [],
   "source": [
    "def average_features(list_of_features):\n",
    "    numeric_features = ['acousticness', 'danceability', 'energy', 'instrumentalness', 'liveness', 'loudness', 'speechiness', 'valence', 'tempo']\n",
    "    numeric_values = [{ your_key: dict_entry[your_key] for your_key in numeric_features } for dict_entry in list_of_features]\n",
    "    \n",
    "    counter = collections.Counter()\n",
    "    for d in numeric_values: \n",
    "        counter.update(d)\n",
    "        \n",
    "    return {k: v / len(list_of_features) for k, v in dict(counter).items()}"
   ]
  },
  {
   "cell_type": "code",
   "execution_count": 29,
   "id": "552cdf41",
   "metadata": {},
   "outputs": [
    {
     "data": {
      "text/plain": [
       "{'acousticness': 0.23316649999999997,\n",
       " 'danceability': 0.55505,\n",
       " 'energy': 0.6758,\n",
       " 'instrumentalness': 0.009247315,\n",
       " 'liveness': 0.138085,\n",
       " 'loudness': -6.33005,\n",
       " 'speechiness': 0.07387,\n",
       " 'valence': 0.4647999999999999,\n",
       " 'tempo': 114.1386}"
      ]
     },
     "execution_count": 29,
     "metadata": {},
     "output_type": "execute_result"
    }
   ],
   "source": [
    "average_features(top_track_features)"
   ]
  },
  {
   "cell_type": "markdown",
   "id": "a46b7677",
   "metadata": {},
   "source": [
    "### Step 6: Identify the Average Features of Different Spotify Genres\n",
    "\n",
    "Spotify's Today's Top Hits Playlist is a collection of the current top Pop hits. In order to determine the average feature values of the Pop genre, we used this playlist as reference."
   ]
  },
  {
   "cell_type": "code",
   "execution_count": 30,
   "id": "e80fc394",
   "metadata": {},
   "outputs": [],
   "source": [
    "def playlist_average_features(playlist_id):\n",
    "    tracks = tracks_in_playlist('ericwyeah',playlist_id)\n",
    "    track_ids = [entry['track_id'] for entry in tracks]\n",
    "    tracks_features = get_track_features(track_ids)\n",
    "    return average_features(tracks_features)"
   ]
  },
  {
   "cell_type": "code",
   "execution_count": 31,
   "id": "3ea5dd61",
   "metadata": {},
   "outputs": [],
   "source": [
    "genres = {}"
   ]
  },
  {
   "cell_type": "markdown",
   "id": "2eb263fc",
   "metadata": {},
   "source": [
    "#### POP"
   ]
  },
  {
   "cell_type": "code",
   "execution_count": 32,
   "id": "55345ab5",
   "metadata": {},
   "outputs": [],
   "source": [
    "todays_top_hits_id = '37i9dQZF1DXcBWIGoYBM5M'"
   ]
  },
  {
   "cell_type": "code",
   "execution_count": 33,
   "id": "2fdbedfc",
   "metadata": {},
   "outputs": [
    {
     "data": {
      "text/plain": [
       "{'acousticness': 0.22150759999999994,\n",
       " 'danceability': 0.6958200000000001,\n",
       " 'energy': 0.63538,\n",
       " 'instrumentalness': 0.0013480440000000003,\n",
       " 'liveness': 0.180602,\n",
       " 'loudness': -6.365960000000001,\n",
       " 'speechiness': 0.09286200000000003,\n",
       " 'valence': 0.5238920000000002,\n",
       " 'tempo': 120.58756000000002}"
      ]
     },
     "execution_count": 33,
     "metadata": {},
     "output_type": "execute_result"
    }
   ],
   "source": [
    "playlist_average_features(todays_top_hits_id)"
   ]
  },
  {
   "cell_type": "code",
   "execution_count": 34,
   "id": "b32685bf",
   "metadata": {},
   "outputs": [],
   "source": [
    "genres['pop'] = playlist_average_features(todays_top_hits_id)"
   ]
  },
  {
   "cell_type": "markdown",
   "id": "f2e86496",
   "metadata": {},
   "source": [
    "##### Classical"
   ]
  },
  {
   "cell_type": "code",
   "execution_count": 35,
   "id": "7b619c8e",
   "metadata": {},
   "outputs": [],
   "source": [
    "classical_essentials_id = '37i9dQZF1DWWEJlAGA9gs0'"
   ]
  },
  {
   "cell_type": "code",
   "execution_count": 36,
   "id": "b541032b",
   "metadata": {},
   "outputs": [
    {
     "data": {
      "text/plain": [
       "{'acousticness': 0.9239100000000002,\n",
       " 'danceability': 0.2489889999999999,\n",
       " 'energy': 0.09592900000000001,\n",
       " 'instrumentalness': 0.7452943240000001,\n",
       " 'liveness': 0.12242199999999999,\n",
       " 'loudness': -23.397980000000004,\n",
       " 'speechiness': 0.04372200000000001,\n",
       " 'valence': 0.12267999999999998,\n",
       " 'tempo': 99.69890000000001}"
      ]
     },
     "execution_count": 36,
     "metadata": {},
     "output_type": "execute_result"
    }
   ],
   "source": [
    "playlist_average_features(classical_essentials_id)"
   ]
  },
  {
   "cell_type": "code",
   "execution_count": 37,
   "id": "6efdb746",
   "metadata": {},
   "outputs": [],
   "source": [
    "genres['classical'] = playlist_average_features(classical_essentials_id)"
   ]
  },
  {
   "cell_type": "markdown",
   "id": "ee183ac9",
   "metadata": {},
   "source": [
    "##### EDM"
   ]
  },
  {
   "cell_type": "code",
   "execution_count": 38,
   "id": "7c25128b",
   "metadata": {},
   "outputs": [],
   "source": [
    "edm_hits_id = '37i9dQZF1DX3Kdv0IChEm9'"
   ]
  },
  {
   "cell_type": "code",
   "execution_count": 39,
   "id": "4cff3232",
   "metadata": {},
   "outputs": [
    {
     "data": {
      "text/plain": [
       "{'acousticness': 0.11803159999999997,\n",
       " 'danceability': 0.6192000000000001,\n",
       " 'energy': 0.7714833333333335,\n",
       " 'instrumentalness': 0.026072740833333333,\n",
       " 'liveness': 0.21089666666666668,\n",
       " 'loudness': -5.099099999999999,\n",
       " 'speechiness': 0.05259500000000002,\n",
       " 'valence': 0.4325233333333333,\n",
       " 'tempo': 121.16761666666665}"
      ]
     },
     "execution_count": 39,
     "metadata": {},
     "output_type": "execute_result"
    }
   ],
   "source": [
    "playlist_average_features(edm_hits_id)"
   ]
  },
  {
   "cell_type": "code",
   "execution_count": 40,
   "id": "0a711adf",
   "metadata": {},
   "outputs": [],
   "source": [
    "genres['edm'] = playlist_average_features(edm_hits_id)"
   ]
  },
  {
   "cell_type": "markdown",
   "id": "fbb5e094",
   "metadata": {},
   "source": [
    "##### Indie"
   ]
  },
  {
   "cell_type": "code",
   "execution_count": 41,
   "id": "7d9595f6",
   "metadata": {},
   "outputs": [],
   "source": [
    "indie_id = '37i9dQZF1DX26DKvjp0s9M'"
   ]
  },
  {
   "cell_type": "code",
   "execution_count": 42,
   "id": "331877e8",
   "metadata": {},
   "outputs": [
    {
     "data": {
      "text/plain": [
       "{'acousticness': 0.245093796,\n",
       " 'danceability': 0.5536,\n",
       " 'energy': 0.6521400000000003,\n",
       " 'instrumentalness': 0.08273723770000001,\n",
       " 'liveness': 0.17088599999999998,\n",
       " 'loudness': -7.147670000000002,\n",
       " 'speechiness': 0.045124999999999985,\n",
       " 'valence': 0.468014,\n",
       " 'tempo': 120.31647}"
      ]
     },
     "execution_count": 42,
     "metadata": {},
     "output_type": "execute_result"
    }
   ],
   "source": [
    "playlist_average_features(indie_id)"
   ]
  },
  {
   "cell_type": "code",
   "execution_count": 43,
   "id": "4c65502a",
   "metadata": {},
   "outputs": [],
   "source": [
    "genres['indie'] = playlist_average_features(indie_id)"
   ]
  },
  {
   "cell_type": "markdown",
   "id": "a08e5d0c",
   "metadata": {},
   "source": [
    "##### Soft Pop"
   ]
  },
  {
   "cell_type": "code",
   "execution_count": 44,
   "id": "3d8a55ac",
   "metadata": {},
   "outputs": [],
   "source": [
    "soft_pop_id = '37i9dQZF1DWTwnEm1IYyoj'"
   ]
  },
  {
   "cell_type": "code",
   "execution_count": 45,
   "id": "a63dcdb6",
   "metadata": {},
   "outputs": [
    {
     "data": {
      "text/plain": [
       "{'acousticness': 0.33000749999999995,\n",
       " 'danceability': 0.5815800000000002,\n",
       " 'energy': 0.5568550000000002,\n",
       " 'instrumentalness': 0.0005572250000000001,\n",
       " 'liveness': 0.13098099999999996,\n",
       " 'loudness': -6.761510000000002,\n",
       " 'speechiness': 0.052465000000000005,\n",
       " 'valence': 0.40887000000000007,\n",
       " 'tempo': 114.90280999999997}"
      ]
     },
     "execution_count": 45,
     "metadata": {},
     "output_type": "execute_result"
    }
   ],
   "source": [
    "playlist_average_features(soft_pop_id)"
   ]
  },
  {
   "cell_type": "code",
   "execution_count": 46,
   "id": "4be13900",
   "metadata": {},
   "outputs": [],
   "source": [
    "genres['soft_pop'] = playlist_average_features(soft_pop_id)"
   ]
  },
  {
   "cell_type": "markdown",
   "id": "2f0d102c",
   "metadata": {},
   "source": [
    "##### R & B"
   ]
  },
  {
   "cell_type": "code",
   "execution_count": 47,
   "id": "74103d86",
   "metadata": {},
   "outputs": [],
   "source": [
    "r_and_b_id = '37i9dQZF1DX4SBhb3fqCJd'"
   ]
  },
  {
   "cell_type": "code",
   "execution_count": 48,
   "id": "2dfd1567",
   "metadata": {},
   "outputs": [
    {
     "data": {
      "text/plain": [
       "{'acousticness': 0.27255300000000005,\n",
       " 'danceability': 0.6129999999999999,\n",
       " 'energy': 0.5653600000000001,\n",
       " 'instrumentalness': 0.001224497,\n",
       " 'liveness': 0.185966,\n",
       " 'loudness': -7.36042,\n",
       " 'speechiness': 0.10812399999999998,\n",
       " 'valence': 0.4450159999999999,\n",
       " 'tempo': 111.85530000000003}"
      ]
     },
     "execution_count": 48,
     "metadata": {},
     "output_type": "execute_result"
    }
   ],
   "source": [
    "playlist_average_features(r_and_b_id)"
   ]
  },
  {
   "cell_type": "code",
   "execution_count": 49,
   "id": "a9a69d68",
   "metadata": {},
   "outputs": [],
   "source": [
    "genres['rnb'] = playlist_average_features(r_and_b_id)"
   ]
  },
  {
   "cell_type": "markdown",
   "id": "358c4c9f",
   "metadata": {},
   "source": [
    "##### Hip Hop"
   ]
  },
  {
   "cell_type": "code",
   "execution_count": 50,
   "id": "00c1fa94",
   "metadata": {},
   "outputs": [],
   "source": [
    "hip_hop_id = '37i9dQZF1DXbkfWVLd8wE3'"
   ]
  },
  {
   "cell_type": "code",
   "execution_count": 51,
   "id": "93f93abd",
   "metadata": {},
   "outputs": [
    {
     "data": {
      "text/plain": [
       "{'acousticness': 0.12341976041666665,\n",
       " 'danceability': 0.7577083333333331,\n",
       " 'energy': 0.7451041666666667,\n",
       " 'instrumentalness': 0.003262283854166666,\n",
       " 'liveness': 0.20602291666666675,\n",
       " 'loudness': -5.638437500000002,\n",
       " 'speechiness': 0.22962291666666682,\n",
       " 'valence': 0.6421145833333334,\n",
       " 'tempo': 109.14435416666662}"
      ]
     },
     "execution_count": 51,
     "metadata": {},
     "output_type": "execute_result"
    }
   ],
   "source": [
    "playlist_average_features(hip_hop_id)"
   ]
  },
  {
   "cell_type": "code",
   "execution_count": 52,
   "id": "c9893d93",
   "metadata": {},
   "outputs": [],
   "source": [
    "genres['hip_hop'] = playlist_average_features(hip_hop_id)"
   ]
  },
  {
   "cell_type": "markdown",
   "id": "776325f8",
   "metadata": {},
   "source": [
    "##### Feelin Myself"
   ]
  },
  {
   "cell_type": "code",
   "execution_count": 53,
   "id": "f742806f",
   "metadata": {},
   "outputs": [],
   "source": [
    "feelin_myself_id = '37i9dQZF1DX6GwdWRQMQpq'"
   ]
  },
  {
   "cell_type": "code",
   "execution_count": 54,
   "id": "5c4d79ca",
   "metadata": {},
   "outputs": [
    {
     "data": {
      "text/plain": [
       "{'acousticness': 0.12620846000000002,\n",
       " 'danceability': 0.8277400000000001,\n",
       " 'energy': 0.6111599999999999,\n",
       " 'instrumentalness': 0.0144701232,\n",
       " 'liveness': 0.19104399999999994,\n",
       " 'loudness': -6.675579999999999,\n",
       " 'speechiness': 0.22947800000000007,\n",
       " 'valence': 0.5526599999999999,\n",
       " 'tempo': 118.62462000000001}"
      ]
     },
     "execution_count": 54,
     "metadata": {},
     "output_type": "execute_result"
    }
   ],
   "source": [
    "playlist_average_features(feelin_myself_id)"
   ]
  },
  {
   "cell_type": "code",
   "execution_count": 55,
   "id": "c5690e40",
   "metadata": {},
   "outputs": [],
   "source": [
    "genres['feelin_myself'] = playlist_average_features(feelin_myself_id)"
   ]
  },
  {
   "cell_type": "markdown",
   "id": "bae24835",
   "metadata": {},
   "source": [
    "### Step 7: Putting Everything Together <3"
   ]
  },
  {
   "cell_type": "code",
   "execution_count": 58,
   "id": "444cba21",
   "metadata": {},
   "outputs": [],
   "source": [
    "df = pd.DataFrame(genres)"
   ]
  },
  {
   "cell_type": "code",
   "execution_count": 59,
   "id": "32fbb38b",
   "metadata": {},
   "outputs": [],
   "source": [
    "transposed = df.T"
   ]
  },
  {
   "cell_type": "code",
   "execution_count": 60,
   "id": "8ded00b9",
   "metadata": {},
   "outputs": [
    {
     "data": {
      "text/html": [
       "<div>\n",
       "<style scoped>\n",
       "    .dataframe tbody tr th:only-of-type {\n",
       "        vertical-align: middle;\n",
       "    }\n",
       "\n",
       "    .dataframe tbody tr th {\n",
       "        vertical-align: top;\n",
       "    }\n",
       "\n",
       "    .dataframe thead th {\n",
       "        text-align: right;\n",
       "    }\n",
       "</style>\n",
       "<table border=\"1\" class=\"dataframe\">\n",
       "  <thead>\n",
       "    <tr style=\"text-align: right;\">\n",
       "      <th></th>\n",
       "      <th>pop</th>\n",
       "      <th>classical</th>\n",
       "      <th>edm</th>\n",
       "      <th>indie</th>\n",
       "      <th>soft_pop</th>\n",
       "      <th>rnb</th>\n",
       "      <th>hip_hop</th>\n",
       "      <th>feelin_myself</th>\n",
       "    </tr>\n",
       "  </thead>\n",
       "  <tbody>\n",
       "    <tr>\n",
       "      <th>acousticness</th>\n",
       "      <td>0.221508</td>\n",
       "      <td>0.923910</td>\n",
       "      <td>0.118032</td>\n",
       "      <td>0.245094</td>\n",
       "      <td>0.330007</td>\n",
       "      <td>0.272553</td>\n",
       "      <td>0.123420</td>\n",
       "      <td>0.126208</td>\n",
       "    </tr>\n",
       "    <tr>\n",
       "      <th>danceability</th>\n",
       "      <td>0.695820</td>\n",
       "      <td>0.248989</td>\n",
       "      <td>0.619200</td>\n",
       "      <td>0.553600</td>\n",
       "      <td>0.581580</td>\n",
       "      <td>0.613000</td>\n",
       "      <td>0.757708</td>\n",
       "      <td>0.827740</td>\n",
       "    </tr>\n",
       "    <tr>\n",
       "      <th>energy</th>\n",
       "      <td>0.635380</td>\n",
       "      <td>0.095929</td>\n",
       "      <td>0.771483</td>\n",
       "      <td>0.652140</td>\n",
       "      <td>0.556855</td>\n",
       "      <td>0.565360</td>\n",
       "      <td>0.745104</td>\n",
       "      <td>0.611160</td>\n",
       "    </tr>\n",
       "    <tr>\n",
       "      <th>instrumentalness</th>\n",
       "      <td>0.001348</td>\n",
       "      <td>0.745294</td>\n",
       "      <td>0.026073</td>\n",
       "      <td>0.082737</td>\n",
       "      <td>0.000557</td>\n",
       "      <td>0.001224</td>\n",
       "      <td>0.003262</td>\n",
       "      <td>0.014470</td>\n",
       "    </tr>\n",
       "    <tr>\n",
       "      <th>liveness</th>\n",
       "      <td>0.180602</td>\n",
       "      <td>0.122422</td>\n",
       "      <td>0.210897</td>\n",
       "      <td>0.170886</td>\n",
       "      <td>0.130981</td>\n",
       "      <td>0.185966</td>\n",
       "      <td>0.206023</td>\n",
       "      <td>0.191044</td>\n",
       "    </tr>\n",
       "    <tr>\n",
       "      <th>loudness</th>\n",
       "      <td>-6.365960</td>\n",
       "      <td>-23.397980</td>\n",
       "      <td>-5.099100</td>\n",
       "      <td>-7.147670</td>\n",
       "      <td>-6.761510</td>\n",
       "      <td>-7.360420</td>\n",
       "      <td>-5.638438</td>\n",
       "      <td>-6.675580</td>\n",
       "    </tr>\n",
       "    <tr>\n",
       "      <th>speechiness</th>\n",
       "      <td>0.092862</td>\n",
       "      <td>0.043722</td>\n",
       "      <td>0.052595</td>\n",
       "      <td>0.045125</td>\n",
       "      <td>0.052465</td>\n",
       "      <td>0.108124</td>\n",
       "      <td>0.229623</td>\n",
       "      <td>0.229478</td>\n",
       "    </tr>\n",
       "    <tr>\n",
       "      <th>valence</th>\n",
       "      <td>0.523892</td>\n",
       "      <td>0.122680</td>\n",
       "      <td>0.432523</td>\n",
       "      <td>0.468014</td>\n",
       "      <td>0.408870</td>\n",
       "      <td>0.445016</td>\n",
       "      <td>0.642115</td>\n",
       "      <td>0.552660</td>\n",
       "    </tr>\n",
       "    <tr>\n",
       "      <th>tempo</th>\n",
       "      <td>120.587560</td>\n",
       "      <td>99.698900</td>\n",
       "      <td>121.167617</td>\n",
       "      <td>120.316470</td>\n",
       "      <td>114.902810</td>\n",
       "      <td>111.855300</td>\n",
       "      <td>109.144354</td>\n",
       "      <td>118.624620</td>\n",
       "    </tr>\n",
       "  </tbody>\n",
       "</table>\n",
       "</div>"
      ],
      "text/plain": [
       "                         pop  classical         edm       indie    soft_pop  \\\n",
       "acousticness        0.221508   0.923910    0.118032    0.245094    0.330007   \n",
       "danceability        0.695820   0.248989    0.619200    0.553600    0.581580   \n",
       "energy              0.635380   0.095929    0.771483    0.652140    0.556855   \n",
       "instrumentalness    0.001348   0.745294    0.026073    0.082737    0.000557   \n",
       "liveness            0.180602   0.122422    0.210897    0.170886    0.130981   \n",
       "loudness           -6.365960 -23.397980   -5.099100   -7.147670   -6.761510   \n",
       "speechiness         0.092862   0.043722    0.052595    0.045125    0.052465   \n",
       "valence             0.523892   0.122680    0.432523    0.468014    0.408870   \n",
       "tempo             120.587560  99.698900  121.167617  120.316470  114.902810   \n",
       "\n",
       "                         rnb     hip_hop  feelin_myself  \n",
       "acousticness        0.272553    0.123420       0.126208  \n",
       "danceability        0.613000    0.757708       0.827740  \n",
       "energy              0.565360    0.745104       0.611160  \n",
       "instrumentalness    0.001224    0.003262       0.014470  \n",
       "liveness            0.185966    0.206023       0.191044  \n",
       "loudness           -7.360420   -5.638438      -6.675580  \n",
       "speechiness         0.108124    0.229623       0.229478  \n",
       "valence             0.445016    0.642115       0.552660  \n",
       "tempo             111.855300  109.144354     118.624620  "
      ]
     },
     "execution_count": 60,
     "metadata": {},
     "output_type": "execute_result"
    }
   ],
   "source": [
    "df"
   ]
  },
  {
   "cell_type": "code",
   "execution_count": 61,
   "id": "96f90834",
   "metadata": {},
   "outputs": [
    {
     "data": {
      "text/plain": [
       "['Rumors (feat. Cardi B) by Lizzo and Cardi B',\n",
       " 'Good as Hell (feat. Ariana Grande) by Lizzo and Ariana Grande',\n",
       " 'Truth Hurts by Lizzo',\n",
       " 'Boys by Lizzo',\n",
       " 'Juice by Lizzo',\n",
       " 'Good as Hell by Lizzo',\n",
       " 'Good as Hell by Lizzo',\n",
       " 'Good as Hell (feat. Ariana Grande) - Remix by Lizzo and Ariana Grande',\n",
       " 'Boys by Lizzo',\n",
       " 'Tempo (feat. Missy Elliott) by Lizzo and Missy Elliott']"
      ]
     },
     "execution_count": 61,
     "metadata": {},
     "output_type": "execute_result"
    }
   ],
   "source": [
    "# Formatted Search Results\n",
    "format_tracks(search_results)"
   ]
  },
  {
   "cell_type": "code",
   "execution_count": 62,
   "id": "8d0bcd5d",
   "metadata": {},
   "outputs": [
    {
     "data": {
      "text/plain": [
       "['Paris by Magic Man',\n",
       " 'Praying by Kesha',\n",
       " 'Fantasy by Alina Baraz and Galimatias',\n",
       " 'Shed a Light by Robin Schulz and David Guetta and Cheat Codes',\n",
       " 'T-Shirt Weather by Circa Waves',\n",
       " 'Between The Raindrops by Lifehouse and Natasha Bedingfield',\n",
       " 'Beneath Your Beautiful (feat. Emeli Sandé) by Labrinth and Emeli Sandé',\n",
       " 'Marry Me by Train',\n",
       " 'Peaches (feat. Daniel Caesar & Giveon) by Justin Bieber and Daniel Caesar and Giveon',\n",
       " 'Sound Of Your Heart by Shawn Hook',\n",
       " 'Kung Foo Fighting by October Cherries',\n",
       " 'Roots by Imagine Dragons',\n",
       " 'On Hold by The xx',\n",
       " 'Temporary Bliss by The Cab',\n",
       " 'Little Wonders by Rob Thomas',\n",
       " \"You're Beautiful by James Blunt\",\n",
       " 'It Ain’t Me (with Selena Gomez) by Kygo and Selena Gomez',\n",
       " 'Sad Song (feat. Elena Coats) by We The Kings and Elena Coats',\n",
       " 'Shape of You by Ed Sheeran',\n",
       " 'Undercover Martyn by Two Door Cinema Club']"
      ]
     },
     "execution_count": 62,
     "metadata": {},
     "output_type": "execute_result"
    }
   ],
   "source": [
    "# Formatted Top Tracks\n",
    "format_tracks(top_tracks)"
   ]
  },
  {
   "cell_type": "code",
   "execution_count": 63,
   "id": "b65fbe29",
   "metadata": {
    "scrolled": true
   },
   "outputs": [
    {
     "data": {
      "text/plain": [
       "['My Playlist by ericwyeah',\n",
       " 'my kpop roots by Stephanie Kwan',\n",
       " 'permanent smile by mariyahh54',\n",
       " 'Ghibli Music Box by Melanie メラニー',\n",
       " 'used to be friends, strangers now by Aleena Shad',\n",
       " 'the hulk inside by mariyahh54',\n",
       " 'Chill Vibes by Spotify',\n",
       " 'Peaceful Piano by Spotify',\n",
       " 'Dreamy Vibes by Spotify',\n",
       " 'welcome to my mind by Aleena Shad',\n",
       " 'eventually by mariyahh54',\n",
       " 'barcelona 2016 by tina',\n",
       " \"if i can hear you, it's not loud enough by Aleena Shad\",\n",
       " \"cupid should've used a bullet by Aleena Shad\",\n",
       " 'hey bb by ericwyeah',\n",
       " 'Piano by ericwyeah',\n",
       " '  by Melissa Viernes',\n",
       " 'Guardians of the Galaxy - Star-Lord: Awesome Mix Vol. 1 (Plus songs cut from the film) by Dan Zetterstrom',\n",
       " 'Liked from Radio by ericwyeah',\n",
       " 'Mood Booster by Spotify',\n",
       " 'Totally Stress Free by Spotify']"
      ]
     },
     "execution_count": 63,
     "metadata": {},
     "output_type": "execute_result"
    }
   ],
   "source": [
    "# Formatted Playlist List\n",
    "format_playlists(playlist_list)"
   ]
  },
  {
   "cell_type": "code",
   "execution_count": 64,
   "id": "a9dc7ad0",
   "metadata": {},
   "outputs": [
    {
     "data": {
      "text/plain": [
       "[{'artists': ['Kygo', 'Will Heard'],\n",
       "  'track_id': '0j0DNujXWeupLpZobbABoo',\n",
       "  'name': 'Nothing Left (feat. Will Heard)',\n",
       "  'preview_url': 'https://p.scdn.co/mp3-preview/b8ab3ba12d30be95dacc171d7c4cde03405015d2?cid=d3f619ebc4e148348b7c292d61418501',\n",
       "  'image': 'https://i.scdn.co/image/ab67616d00004851ff34611201eb1d4eed0cddbd'},\n",
       " {'artists': ['Emmit Fenn'],\n",
       "  'track_id': '6kUohQ7py1XEcQAhUgf2Zz',\n",
       "  'name': 'Painting Greys',\n",
       "  'preview_url': None,\n",
       "  'image': 'https://i.scdn.co/image/ab67616d00004851003dca9f70f88e8940fba146'},\n",
       " {'artists': ['Against The Current', 'Taka'],\n",
       "  'track_id': '3lbtBnZlPTSlcQjgvUGsmu',\n",
       "  'name': 'Dreaming Alone',\n",
       "  'preview_url': 'https://p.scdn.co/mp3-preview/fa58b85583d416fdb333fc854c11c2bd1d4f49df?cid=d3f619ebc4e148348b7c292d61418501',\n",
       "  'image': 'https://i.scdn.co/image/ab67616d00004851cb7523307aac3e10b66bef40'},\n",
       " {'artists': ['FRND'],\n",
       "  'track_id': '7qDQhmvXb27hqKQxZ49GYr',\n",
       "  'name': 'Friend',\n",
       "  'preview_url': 'https://p.scdn.co/mp3-preview/18ea4400d74d0f69484870b5242974326885e3e3?cid=d3f619ebc4e148348b7c292d61418501',\n",
       "  'image': 'https://i.scdn.co/image/ab67616d000048511b27da49382e8811b4b0d8f5'},\n",
       " {'artists': ['The Federal Empire'],\n",
       "  'track_id': '5sDgyOoJl8T8cnZL2EAcPc',\n",
       "  'name': 'I Never Liked Your Friends',\n",
       "  'preview_url': None,\n",
       "  'image': 'https://i.scdn.co/image/ab67616d00004851d9be166ac92d7dcd88c443d5'},\n",
       " {'artists': ['Shawn Mendes'],\n",
       "  'track_id': '7evPpWWu01Klxi0KlPxR17',\n",
       "  'name': 'Mercy',\n",
       "  'preview_url': None,\n",
       "  'image': 'https://i.scdn.co/image/ab67616d00004851ac0c799031070926bc225b81'},\n",
       " {'artists': ['BROODS'],\n",
       "  'track_id': '3Nttjgkm2lDCRVFpMh22hv',\n",
       "  'name': 'Mother & Father',\n",
       "  'preview_url': None,\n",
       "  'image': 'https://i.scdn.co/image/ab67616d000048514016d72958f2aa2b00df37bf'},\n",
       " {'artists': ['Danny Gokey'],\n",
       "  'track_id': '6JFpNvaRA711Tyq46ORrvy',\n",
       "  'name': 'Tell Your Heart to Beat Again',\n",
       "  'preview_url': 'https://p.scdn.co/mp3-preview/bea0e27e9de6054870e43108ab7d44d5694d952d?cid=d3f619ebc4e148348b7c292d61418501',\n",
       "  'image': 'https://i.scdn.co/image/ab67616d0000485163b6f1702cde61d8245502fa'},\n",
       " {'artists': ['Regina Spektor'],\n",
       "  'track_id': '341863z079BT4EFPiSw9DP',\n",
       "  'name': 'The Call',\n",
       "  'preview_url': 'https://p.scdn.co/mp3-preview/2eaab794e82c37ad29756f44203a1f51cbe4ebc9?cid=d3f619ebc4e148348b7c292d61418501',\n",
       "  'image': 'https://i.scdn.co/image/ab67616d000048516b0a69f71595da9ec310f32f'},\n",
       " {'artists': ['Alessia Cara'],\n",
       "  'track_id': '42ydLwx4i5V49RXHOozJZq',\n",
       "  'name': 'Scars To Your Beautiful',\n",
       "  'preview_url': None,\n",
       "  'image': 'https://i.scdn.co/image/ab67616d000048510a48794d471447a030998815'},\n",
       " {'artists': ['MKTO'],\n",
       "  'track_id': '5XY2LEP0uEeUuDMVNdNTI8',\n",
       "  'name': 'Goodbye Song',\n",
       "  'preview_url': 'https://p.scdn.co/mp3-preview/1f3c882b0e60d19719e155322b19d243007eaa0c?cid=d3f619ebc4e148348b7c292d61418501',\n",
       "  'image': 'https://i.scdn.co/image/ab67616d00004851a3aa50c6d18d38be136bd67d'},\n",
       " {'artists': ['Ruth B.'],\n",
       "  'track_id': '4h0zU3O9R5xzuTmNO7dNDU',\n",
       "  'name': 'Lost Boy',\n",
       "  'preview_url': 'https://p.scdn.co/mp3-preview/b8ad63b61e2af502b7a1bf4cff24c0d47b8d1674?cid=d3f619ebc4e148348b7c292d61418501',\n",
       "  'image': 'https://i.scdn.co/image/ab67616d000048511ad149489625bd3b7d9ea6a2'},\n",
       " {'artists': ['OneRepublic'],\n",
       "  'track_id': '5oLP3yTZ7oQlRJ8bSCWvzN',\n",
       "  'name': 'Better',\n",
       "  'preview_url': None,\n",
       "  'image': 'https://i.scdn.co/image/ab67616d00004851eedabed826eeb6506a4c700d'},\n",
       " {'artists': ['Hey Violet'],\n",
       "  'track_id': '1PXZIkTzCBUed2hwrQ1WeL',\n",
       "  'name': 'Fuqboi',\n",
       "  'preview_url': None,\n",
       "  'image': 'https://i.scdn.co/image/ab67616d000048519151dcdb29fc33afee524ee0'},\n",
       " {'artists': ['We The Kings'],\n",
       "  'track_id': '44kq5UxO0d5jWB2EUaOJX0',\n",
       "  'name': 'She',\n",
       "  'preview_url': 'https://p.scdn.co/mp3-preview/2b73937b56c0c0e1162d291686edc81fa9be98e9?cid=d3f619ebc4e148348b7c292d61418501',\n",
       "  'image': 'https://i.scdn.co/image/ab67616d00004851007e6abd1abbfce94770e6d1'},\n",
       " {'artists': ['We The Kings'],\n",
       "  'track_id': '5MNRv4XYIXjEG34dxf747J',\n",
       "  'name': 'Just Keep Breathing',\n",
       "  'preview_url': None,\n",
       "  'image': 'https://i.scdn.co/image/ab67616d000048510bd846ed7a25f0ed4e313c35'},\n",
       " {'artists': ['We The Kings'],\n",
       "  'track_id': '7pt4cDEJFAig96fgW2olBz',\n",
       "  'name': 'The View From Here',\n",
       "  'preview_url': None,\n",
       "  'image': 'https://i.scdn.co/image/ab67616d00004851b1581a2e57fb8e48b328c5d8'},\n",
       " {'artists': ['Fitz and The Tantrums'],\n",
       "  'track_id': '2AYEOC02WLhUiOoaig2SEH',\n",
       "  'name': 'Out of My League',\n",
       "  'preview_url': 'https://p.scdn.co/mp3-preview/454dfd2b54dad6440f49d6aa43557849f2480bd0?cid=d3f619ebc4e148348b7c292d61418501',\n",
       "  'image': 'https://i.scdn.co/image/ab67616d000048515e145eb24e282b9554501a27'},\n",
       " {'artists': ['Finish Ticket'],\n",
       "  'track_id': '40xxCI61nOsrtfoiiNGBl4',\n",
       "  'name': 'Scavenger',\n",
       "  'preview_url': 'https://p.scdn.co/mp3-preview/f15c0e49e01a487f4a4d9db1df89614a8fdba2cf?cid=d3f619ebc4e148348b7c292d61418501',\n",
       "  'image': 'https://i.scdn.co/image/ab67616d00004851fd64fe0dc8e8b1fe74267509'},\n",
       " {'artists': ['Tiffany Giardina'],\n",
       "  'track_id': '2m3uN4E45hvCWyNnjyg9Pb',\n",
       "  'name': 'Hurry Up and Save Me',\n",
       "  'preview_url': None,\n",
       "  'image': 'https://i.scdn.co/image/ab67616d00004851797c93efabdc855030b836ce'},\n",
       " {'artists': ['Stateless'],\n",
       "  'track_id': '1j3nx141hGUw61Yfvtebwd',\n",
       "  'name': 'Bloodstream',\n",
       "  'preview_url': None,\n",
       "  'image': 'https://i.scdn.co/image/ab67616d000048517ad4176a57ccfbd6a292c151'},\n",
       " {'artists': ['Ruth B.'],\n",
       "  'track_id': '5hwh37sTi84MVhCBMWzhGE',\n",
       "  'name': 'Superficial Love',\n",
       "  'preview_url': 'https://p.scdn.co/mp3-preview/a983c5279bdff2f1702aee51971c5991e9c217cd?cid=d3f619ebc4e148348b7c292d61418501',\n",
       "  'image': 'https://i.scdn.co/image/ab67616d000048512a49b49a2e9c7fa49c275a5f'},\n",
       " {'artists': ['Vinyl Theatre'],\n",
       "  'track_id': '7zXAqmQ1E7LlcMdApK8Jdq',\n",
       "  'name': 'Creature of Love',\n",
       "  'preview_url': 'https://p.scdn.co/mp3-preview/9af47e1de4c1363e86cc523168faeabbd9559ea4?cid=d3f619ebc4e148348b7c292d61418501',\n",
       "  'image': 'https://i.scdn.co/image/ab67616d00004851a3d2910b8c340146ab3a7cb2'},\n",
       " {'artists': ['Panic! At The Disco'],\n",
       "  'track_id': '5Q4H1XkVHxQjnrHCUpS61d',\n",
       "  'name': 'Nicotine',\n",
       "  'preview_url': 'https://p.scdn.co/mp3-preview/bab3754d606fa676a52d0ec516b80c258ceaca54?cid=d3f619ebc4e148348b7c292d61418501',\n",
       "  'image': 'https://i.scdn.co/image/ab67616d000048513d01f39642426b65217fbe21'},\n",
       " {'artists': ['The All-American Rejects'],\n",
       "  'track_id': '2j1ueaaSQuwg8NTiRrvJna',\n",
       "  'name': \"Someday's Gone\",\n",
       "  'preview_url': None,\n",
       "  'image': 'https://i.scdn.co/image/ab67616d000048514dc7703f66e6f503747a4c81'},\n",
       " {'artists': ['Maroon 5', 'Kendrick Lamar'],\n",
       "  'track_id': '0AKejOKlGdiB53QpwAeenO',\n",
       "  'name': \"Don't Wanna Know\",\n",
       "  'preview_url': None,\n",
       "  'image': 'https://i.scdn.co/image/ab67616d00004851c9fd5c07c8ebda54f8038711'},\n",
       " {'artists': ['CRUISR'],\n",
       "  'track_id': '6gEM9VkLei8yho1uOe08LI',\n",
       "  'name': 'Throw Shade',\n",
       "  'preview_url': None,\n",
       "  'image': 'https://i.scdn.co/image/ab67616d00004851c1f942c34cd76a30e083a7f9'},\n",
       " {'artists': ['Naomi Scott'],\n",
       "  'track_id': '4DTrKnvkHtwQN6kBu4XXIF',\n",
       "  'name': \"She's So Gone\",\n",
       "  'preview_url': None,\n",
       "  'image': 'https://i.scdn.co/image/ab67616d00004851d9a239d0a67fc31a9b9fff59'},\n",
       " {'artists': ['Bridgit Mendler'],\n",
       "  'track_id': '3L08akAE8Fweu2Hnw8ZMJ4',\n",
       "  'name': 'Forgot to Laugh',\n",
       "  'preview_url': None,\n",
       "  'image': 'https://i.scdn.co/image/ab67616d00004851c0758d813c09f649f630f405'},\n",
       " {'artists': ['Jess Glynne'],\n",
       "  'track_id': '6jF1nHIMESqft9p33tQYPn',\n",
       "  'name': \"Don't Be so Hard on Yourself\",\n",
       "  'preview_url': 'https://p.scdn.co/mp3-preview/508e071166fb8c564b90a1dc6c37f41e6544f077?cid=d3f619ebc4e148348b7c292d61418501',\n",
       "  'image': 'https://i.scdn.co/image/ab67616d000048515c02ac6b1fa1137d7d5b4354'},\n",
       " {'artists': ['Cher'],\n",
       "  'track_id': '144JMbvbR5txNzoZ112wo4',\n",
       "  'name': 'Strong Enough',\n",
       "  'preview_url': 'https://p.scdn.co/mp3-preview/31f7b7878cbcad46832c8154056e23d1526463d0?cid=d3f619ebc4e148348b7c292d61418501',\n",
       "  'image': 'https://i.scdn.co/image/ab67616d0000485161c83e0a3e42be611729c840'},\n",
       " {'artists': ['Mary J. Blige', 'U2'],\n",
       "  'track_id': '0Y8o2jU3ATJsIuatAhTG5Y',\n",
       "  'name': 'One',\n",
       "  'preview_url': None,\n",
       "  'image': 'https://i.scdn.co/image/ab67616d000048516d98c223ba5d141cfd2f46a0'},\n",
       " {'artists': ['The All-American Rejects'],\n",
       "  'track_id': '6ihL9TjfRjadfEePzXXyVF',\n",
       "  'name': 'Gives You Hell',\n",
       "  'preview_url': None,\n",
       "  'image': 'https://i.scdn.co/image/ab67616d000048518f6b4035c82eb9cf42e9d8d7'},\n",
       " {'artists': ['Kodaline'],\n",
       "  'track_id': '2PwXOevGUSkU8qaYZjgLq2',\n",
       "  'name': 'All I Want',\n",
       "  'preview_url': None,\n",
       "  'image': 'https://i.scdn.co/image/ab67616d000048512f6a4c54e1f4a241dc3a2d21'},\n",
       " {'artists': ['3 Doors Down'],\n",
       "  'track_id': '3jdo9L1HZ17JJ3TTWq0v6R',\n",
       "  'name': 'The Broken',\n",
       "  'preview_url': None,\n",
       "  'image': 'https://i.scdn.co/image/ab67616d00004851e3b0a09bcc8813d47b1392b1'},\n",
       " {'artists': ['Avicii'],\n",
       "  'track_id': '7kbTZWt7DnzIzbkyzFE1PW',\n",
       "  'name': 'For A Better Day',\n",
       "  'preview_url': None,\n",
       "  'image': 'https://i.scdn.co/image/ab67616d000048515393c5d3cac806092a9bc468'},\n",
       " {'artists': ['OneRepublic'],\n",
       "  'track_id': '1qaN8ITLg9quCqMTKhM1oL',\n",
       "  'name': 'Future Looks Good',\n",
       "  'preview_url': None,\n",
       "  'image': 'https://i.scdn.co/image/ab67616d000048516b23f857562d084b78293b4e'},\n",
       " {'artists': ['OneRepublic'],\n",
       "  'track_id': '1H8kvAGTLOl4D7eh0ooRuj',\n",
       "  'name': 'Fingertips',\n",
       "  'preview_url': None,\n",
       "  'image': 'https://i.scdn.co/image/ab67616d000048516b23f857562d084b78293b4e'},\n",
       " {'artists': ['Gavin DeGraw'],\n",
       "  'track_id': '0Ake4vv8I9oDms5qxwm8Jm',\n",
       "  'name': 'Say I Am',\n",
       "  'preview_url': 'https://p.scdn.co/mp3-preview/07a32d378290651f744fa4104a02ebab4073181a?cid=d3f619ebc4e148348b7c292d61418501',\n",
       "  'image': 'https://i.scdn.co/image/ab67616d00004851b6284f6be1183f7f79773b4f'},\n",
       " {'artists': ['Gavin DeGraw'],\n",
       "  'track_id': '10THcVz6xpbsdmxzdqCVZV',\n",
       "  'name': 'Something Worth Saving',\n",
       "  'preview_url': 'https://p.scdn.co/mp3-preview/598d690c4fcea9d017e8d871b9c66e164754af71?cid=d3f619ebc4e148348b7c292d61418501',\n",
       "  'image': 'https://i.scdn.co/image/ab67616d00004851b6284f6be1183f7f79773b4f'},\n",
       " {'artists': ['Gavin DeGraw'],\n",
       "  'track_id': '2bN0VoXCagktb6yAi9942I',\n",
       "  'name': 'Best I Ever Had',\n",
       "  'preview_url': 'https://p.scdn.co/mp3-preview/fccc58dba5dd918c0d0f74139698b4269842cf75?cid=d3f619ebc4e148348b7c292d61418501',\n",
       "  'image': 'https://i.scdn.co/image/ab67616d000048517a660682f1e1af72786cb64a'},\n",
       " {'artists': ['Eden Project'],\n",
       "  'track_id': '1Gu6GxGcH3D0abQDS2IOyF',\n",
       "  'name': 'drowning.',\n",
       "  'preview_url': 'https://p.scdn.co/mp3-preview/234624a3fe7a2f305edfca8a7837f4bb8a01342b?cid=d3f619ebc4e148348b7c292d61418501',\n",
       "  'image': 'https://i.scdn.co/image/ab67616d00004851616450de17b5a6ecf625b37e'},\n",
       " {'artists': ['Eden Project'],\n",
       "  'track_id': '4O4BKESRT1i5w0AKNh8TOH',\n",
       "  'name': 'Jupiter',\n",
       "  'preview_url': 'https://p.scdn.co/mp3-preview/7502bcb1208619dbcc2cc7f185f83b7552272903?cid=d3f619ebc4e148348b7c292d61418501',\n",
       "  'image': 'https://i.scdn.co/image/ab67616d00004851616450de17b5a6ecf625b37e'},\n",
       " {'artists': ['Eden Project'],\n",
       "  'track_id': '609mqRVCio3XULlX0kOUSC',\n",
       "  'name': 'Soul',\n",
       "  'preview_url': 'https://p.scdn.co/mp3-preview/16ee665f4a37da3a82b23c5957eb3a29ccc68ada?cid=d3f619ebc4e148348b7c292d61418501',\n",
       "  'image': 'https://i.scdn.co/image/ab67616d00004851616450de17b5a6ecf625b37e'},\n",
       " {'artists': ['MAX'],\n",
       "  'track_id': '5A6BJLZArq1MPjsnmcuk5f',\n",
       "  'name': 'Lights Down Low',\n",
       "  'preview_url': 'https://p.scdn.co/mp3-preview/5bd9a17dbb33b05995c5d5c980d050478a7e8b22?cid=d3f619ebc4e148348b7c292d61418501',\n",
       "  'image': 'https://i.scdn.co/image/ab67616d00004851cb681d4647786d21005ae986'},\n",
       " {'artists': ['Tom Odell'],\n",
       "  'track_id': '7otCGmgp9h4CsR2LhwB6gt',\n",
       "  'name': 'Another Love',\n",
       "  'preview_url': 'https://p.scdn.co/mp3-preview/04ba5fa8196139b739f30ac187dfcc0f6922f88c?cid=d3f619ebc4e148348b7c292d61418501',\n",
       "  'image': 'https://i.scdn.co/image/ab67616d00004851c894dbea54813d89d2e92f12'},\n",
       " {'artists': ['OneRepublic'],\n",
       "  'track_id': '6sy3LkhNFjJWlaeSMNwQ62',\n",
       "  'name': 'Counting Stars',\n",
       "  'preview_url': None,\n",
       "  'image': 'https://i.scdn.co/image/ab67616d00004851e80e7dbce3996a1ae5967751'},\n",
       " {'artists': ['Hannah Montana'],\n",
       "  'track_id': '1GBknQ67DCfKTPms1dw9EW',\n",
       "  'name': \"Nobody's Perfect - From “Hannah Montana 2”\",\n",
       "  'preview_url': None,\n",
       "  'image': 'https://i.scdn.co/image/ab67616d00004851874ce99e6e09e2af5dfcf1fe'},\n",
       " {'artists': ['Adam Hicks', 'Bridgit Mendler', 'Naomi Scott', 'Hayley Kiyoko'],\n",
       "  'track_id': '4qEoqyPbLYnLOii6mKlIjI',\n",
       "  'name': 'Determinate - From \"Lemonade Mouth\"',\n",
       "  'preview_url': None,\n",
       "  'image': 'https://i.scdn.co/image/ab67616d00004851d9a239d0a67fc31a9b9fff59'},\n",
       " {'artists': ['Bridgit Mendler',\n",
       "   'Naomi Scott',\n",
       "   'Hayley Kiyoko',\n",
       "   'Blake Michael',\n",
       "   'Adam Hicks'],\n",
       "  'track_id': '5795tkQ1pTLZ2D3jctqhdQ',\n",
       "  'name': 'More Than a Band',\n",
       "  'preview_url': None,\n",
       "  'image': 'https://i.scdn.co/image/ab67616d00004851d9a239d0a67fc31a9b9fff59'},\n",
       " {'artists': ['Demi Lovato', 'Joe Jonas'],\n",
       "  'track_id': '5pomCBdsTZSDCFHH8BAUQe',\n",
       "  'name': 'This Is Me',\n",
       "  'preview_url': None,\n",
       "  'image': 'https://i.scdn.co/image/ab67616d000048515f20a046cecfa513d565911f'},\n",
       " {'artists': ['Fifth Harmony'],\n",
       "  'track_id': '348qSa1KejmhpWgCpsfSxb',\n",
       "  'name': \"Miss Movin' On\",\n",
       "  'preview_url': 'https://p.scdn.co/mp3-preview/b04e491a09e2c3c8fed99fc3b9de539ffcb7a9bb?cid=d3f619ebc4e148348b7c292d61418501',\n",
       "  'image': 'https://i.scdn.co/image/ab67616d00004851cd3465b98fe50bc96e71f547'},\n",
       " {'artists': ['Fifth Harmony'],\n",
       "  'track_id': '6SghBI1kud4USU9UAJkWR9',\n",
       "  'name': 'Who Are You',\n",
       "  'preview_url': 'https://p.scdn.co/mp3-preview/b739c28461bef34ea69bb231bcd22d96d756fd12?cid=d3f619ebc4e148348b7c292d61418501',\n",
       "  'image': 'https://i.scdn.co/image/ab67616d00004851cd3465b98fe50bc96e71f547'},\n",
       " {'artists': ['James Bay'],\n",
       "  'track_id': '13HVjjWUZFaWilh2QUJKsP',\n",
       "  'name': 'Let It Go',\n",
       "  'preview_url': None,\n",
       "  'image': 'https://i.scdn.co/image/ab67616d00004851b36f5e7575a59b21aef432f2'},\n",
       " {'artists': ['Troy', 'Gabriella Montez'],\n",
       "  'track_id': '4LwrgltRSrddxeyhIPSoqa',\n",
       "  'name': 'Start of Something New - From \"High School Musical\"/Soundtrack Version',\n",
       "  'preview_url': None,\n",
       "  'image': 'https://i.scdn.co/image/ab67616d0000485186ea2533f3bfc5f1f08ab168'},\n",
       " {'artists': ['The Janoskians'],\n",
       "  'track_id': '1Xu82oi1qPWgIy6Cpwp4wr',\n",
       "  'name': 'One More Time',\n",
       "  'preview_url': 'https://p.scdn.co/mp3-preview/5589e2ff2e3080581c056b54f3cbbee74217ae3d?cid=d3f619ebc4e148348b7c292d61418501',\n",
       "  'image': 'https://i.scdn.co/image/ab67616d0000485135977147b44aa261e7a93af0'},\n",
       " {'artists': ['Demi Lovato'],\n",
       "  'track_id': '7MG5A5HdsYjlHNjFp6Z7ec',\n",
       "  'name': 'Brand New Day - From \"Camp Rock 2: The Final Jam\"',\n",
       "  'preview_url': None,\n",
       "  'image': 'https://i.scdn.co/image/ab67616d00004851e0f3cba015a03c59e2f7dd61'},\n",
       " {'artists': ['Demi Lovato',\n",
       "   'Alyson Stoner',\n",
       "   'Anna Maria Perez de Taglé',\n",
       "   'Char Ligera'],\n",
       "  'track_id': '51NrdlQOSTeq0d6U7xRKsz',\n",
       "  'name': 'Can\\'t Back Down - From \"Camp Rock 2: The Final Jam\"',\n",
       "  'preview_url': None,\n",
       "  'image': 'https://i.scdn.co/image/ab67616d00004851e0f3cba015a03c59e2f7dd61'},\n",
       " {'artists': ['One Direction'],\n",
       "  'track_id': '3yAmqW5F28duOyV60VtIgN',\n",
       "  'name': 'Moments',\n",
       "  'preview_url': None,\n",
       "  'image': 'https://i.scdn.co/image/ab67616d0000485175ba60ccc0a208f59c5dea2a'},\n",
       " {'artists': ['Lost & Found Music Studios',\n",
       "   'Shane Harte',\n",
       "   'Levi Randall',\n",
       "   'Trevor Tordjman',\n",
       "   'Alex Zaichkowski'],\n",
       "  'track_id': '2V71r1IG70s0tP2YQDcV1L',\n",
       "  'name': 'We Could Have It All',\n",
       "  'preview_url': 'https://p.scdn.co/mp3-preview/4dfa299b62abdeff8e2cd2b98182ca77b864d4c4?cid=d3f619ebc4e148348b7c292d61418501',\n",
       "  'image': 'https://i.scdn.co/image/ab67616d000048510ee03988752c77d73abdb8bd'},\n",
       " {'artists': ['Big Time Rush'],\n",
       "  'track_id': '3X4R33J2pUsvATuYnlXIgy',\n",
       "  'name': \"You're Not Alone\",\n",
       "  'preview_url': 'https://p.scdn.co/mp3-preview/77a9640efb4cd1566cfaaddad4e3dd6a627474fb?cid=d3f619ebc4e148348b7c292d61418501',\n",
       "  'image': 'https://i.scdn.co/image/ab67616d00004851f1ba45106688ee10eb367bc0'},\n",
       " {'artists': ['Kelly Clarkson'],\n",
       "  'track_id': '6D60klaHqbCl9ySc8VcRss',\n",
       "  'name': \"Stronger (What Doesn't Kill You)\",\n",
       "  'preview_url': 'https://p.scdn.co/mp3-preview/328bdd62e0e8f7f110cb546017ff3bf3042cc37a?cid=d3f619ebc4e148348b7c292d61418501',\n",
       "  'image': 'https://i.scdn.co/image/ab67616d00004851253e3f8fce535f72a6b2c4ba'},\n",
       " {'artists': ['Vishal-Shekhar', 'Sanam Puri', 'Shipra Goyal'],\n",
       "  'track_id': '7cYTgUmc4x7Qrjpecedgmx',\n",
       "  'name': 'Ishq Bulaava (From \"Hasee Toh Phasee\")',\n",
       "  'preview_url': None,\n",
       "  'image': 'https://i.scdn.co/image/ab67616d00004851d834ecd0e09ae8031cb77ee0'},\n",
       " {'artists': ['Lost & Found Music Studios',\n",
       "   'Shane Harte',\n",
       "   'Levi Randall',\n",
       "   'Trevor Tordjman',\n",
       "   'Alex Zaichkowski'],\n",
       "  'track_id': '43yEvTTozO8ZsGw07jyEZJ',\n",
       "  'name': 'Never Be the Same Again',\n",
       "  'preview_url': 'https://p.scdn.co/mp3-preview/3400631dbb83895418b4e5f9f98c2e434bcaabed?cid=d3f619ebc4e148348b7c292d61418501',\n",
       "  'image': 'https://i.scdn.co/image/ab67616d000048510ee03988752c77d73abdb8bd'},\n",
       " {'artists': ['Katy Perry'],\n",
       "  'track_id': '1nZzRJbFvCEct3uzu04ZoL',\n",
       "  'name': 'Part Of Me',\n",
       "  'preview_url': None,\n",
       "  'image': 'https://i.scdn.co/image/ab67616d00004851937af329667311f4b2831616'},\n",
       " {'artists': ['Snow Patrol'],\n",
       "  'track_id': '11bD1JtSjlIgKgZG2134DZ',\n",
       "  'name': 'Chasing Cars',\n",
       "  'preview_url': None,\n",
       "  'image': 'https://i.scdn.co/image/ab67616d0000485115a6fad25bd729dc98799b90'},\n",
       " {'artists': ['Justin Bieber', 'Jaden'],\n",
       "  'track_id': '5GYbkDveRD2I8M5ZJ14hWn',\n",
       "  'name': 'Never Say Never',\n",
       "  'preview_url': None,\n",
       "  'image': 'https://i.scdn.co/image/ab67616d0000485149130b16d4190db1d6822e59'},\n",
       " {'artists': ['Christopher Wilde'],\n",
       "  'track_id': '6hXYNf8WmAI8SOhEzohUrn',\n",
       "  'name': 'What You Mean to Me',\n",
       "  'preview_url': None,\n",
       "  'image': 'https://i.scdn.co/image/ab67616d0000485134b2fc0be1e82d6c5b774786'},\n",
       " {'artists': ['Freddie Stroma'],\n",
       "  'track_id': '3LTwdcMvVwqtrt0wdcmjmr',\n",
       "  'name': 'Knockin',\n",
       "  'preview_url': None,\n",
       "  'image': 'https://i.scdn.co/image/ab67616d00004851d043edaa3997acecbc6304dd'},\n",
       " {'artists': ['Nickelback'],\n",
       "  'track_id': '1EFddFVisHbqCHah6oBlhD',\n",
       "  'name': 'Far Away',\n",
       "  'preview_url': 'https://p.scdn.co/mp3-preview/ee5ef1ff3c6c82863e00c2f29775d16af8c22b37?cid=d3f619ebc4e148348b7c292d61418501',\n",
       "  'image': 'https://i.scdn.co/image/ab67616d000048518ad2adfa59683b9c8ace96c1'},\n",
       " {'artists': ['Tori Kelly'],\n",
       "  'track_id': '6QeJEhEoMNqsn2yhCvG3jc',\n",
       "  'name': 'Hollow',\n",
       "  'preview_url': None,\n",
       "  'image': 'https://i.scdn.co/image/ab67616d00004851575a053c1fec8e5ca7da3005'},\n",
       " {'artists': ['Steve Moakler'],\n",
       "  'track_id': '0g5XHxMSOfagBzbZGsDAQQ',\n",
       "  'name': 'All The Faint Lights',\n",
       "  'preview_url': None,\n",
       "  'image': 'https://i.scdn.co/image/ab67616d000048517711d0d9dfb91497910d8426'},\n",
       " {'artists': ['Jatin-Lalit', 'Lata Mangeshkar'],\n",
       "  'track_id': '6csDlzCjNZXrGpuIExoDOg',\n",
       "  'name': 'Kabhi Khushi Kabhie Gham - Sad Version, 2',\n",
       "  'preview_url': 'https://p.scdn.co/mp3-preview/98b9123ec3481d3c601e86d3f325196e1a17edd0?cid=d3f619ebc4e148348b7c292d61418501',\n",
       "  'image': 'https://i.scdn.co/image/ab67616d00004851941eb533e845e5c2299570b9'},\n",
       " {'artists': ['Victorious Cast', 'Victoria Justice'],\n",
       "  'track_id': '3n5TN5s5NFWatzrsFmQOse',\n",
       "  'name': \"Here's 2 Us\",\n",
       "  'preview_url': 'https://p.scdn.co/mp3-preview/7c897c8002c45b90e087e515d5ea3e2b2795bf0f?cid=d3f619ebc4e148348b7c292d61418501',\n",
       "  'image': 'https://i.scdn.co/image/ab67616d00004851f7b2662bde29f224c3a0ecd8'},\n",
       " {'artists': ['Lucy Hale'],\n",
       "  'track_id': '4ULU0GJw4l3b7qZnCuHqnf',\n",
       "  'name': 'Bless Myself',\n",
       "  'preview_url': None,\n",
       "  'image': 'https://i.scdn.co/image/ab67616d00004851d043edaa3997acecbc6304dd'},\n",
       " {'artists': ['Troy', 'Gabriella Montez'],\n",
       "  'track_id': '3V2bsAOqOqRdd5GdkplBAx',\n",
       "  'name': 'Gotta Go My Own Way - From \"High School Musical 2\"',\n",
       "  'preview_url': None,\n",
       "  'image': 'https://i.scdn.co/image/ab67616d000048510c0a3038e304d5642d62c25d'},\n",
       " {'artists': ['Sofia Carson', 'Thomas Law'],\n",
       "  'track_id': '3PwhKz38fRL1VLXO8pdAiP',\n",
       "  'name': \"Why Don't I - Duet\",\n",
       "  'preview_url': None,\n",
       "  'image': 'https://i.scdn.co/image/ab67616d00004851bf00662dc96b1798ef1937d0'},\n",
       " {'artists': ['Olivia Holt'],\n",
       "  'track_id': '4nAp10uhDMTEP7CcklDyVn',\n",
       "  'name': 'Fearless',\n",
       "  'preview_url': None,\n",
       "  'image': 'https://i.scdn.co/image/ab67616d00004851a2cd74a31afb50a52914602e'},\n",
       " {'artists': ['Olivia Holt'],\n",
       "  'track_id': '2yDmQbe1no8CHP386Oltyl',\n",
       "  'name': 'Nothing’s Gonna Stop Me Now',\n",
       "  'preview_url': None,\n",
       "  'image': 'https://i.scdn.co/image/ab67616d00004851a2cd74a31afb50a52914602e'},\n",
       " {'artists': ['Thomas Law'],\n",
       "  'track_id': '26yo469dKMg5z6CqwZ4pVg',\n",
       "  'name': 'Stuck on the Outside',\n",
       "  'preview_url': None,\n",
       "  'image': 'https://i.scdn.co/image/ab67616d00004851bf00662dc96b1798ef1937d0'},\n",
       " {'artists': ['Sofia Carson'],\n",
       "  'track_id': '3KEQS97LbgXKbqISzHJf5p',\n",
       "  'name': 'Stuck on the Outside',\n",
       "  'preview_url': None,\n",
       "  'image': 'https://i.scdn.co/image/ab67616d00004851bf00662dc96b1798ef1937d0'},\n",
       " {'artists': ['The Rolling Stones'],\n",
       "  'track_id': '6lFZbCc7pn6Lme1NP7qQqQ',\n",
       "  'name': \"You Can't Always Get What You Want\",\n",
       "  'preview_url': None,\n",
       "  'image': 'https://i.scdn.co/image/ab67616d000048512af30c881bb23cfb82a8cf99'},\n",
       " {'artists': ['Hamilton Leithauser + Rostam'],\n",
       "  'track_id': '1idBirsBGvCMsLvv4cTv7k',\n",
       "  'name': 'In a Black Out',\n",
       "  'preview_url': None,\n",
       "  'image': 'https://i.scdn.co/image/ab67616d00004851bfcbe363e087ed5912d40b83'},\n",
       " {'artists': ['Dove Cameron'],\n",
       "  'track_id': '1mRBJdpIgc3jZH8C3cN2WV',\n",
       "  'name': 'If Only',\n",
       "  'preview_url': None,\n",
       "  'image': 'https://i.scdn.co/image/ab67616d00004851f2cf4cf5b74718a5922fa17d'},\n",
       " {'artists': ['Jon Bellion'],\n",
       "  'track_id': '5wQRNkb7OhzJoT1P0OZ4Rw',\n",
       "  'name': 'All Time Low',\n",
       "  'preview_url': None,\n",
       "  'image': 'https://i.scdn.co/image/ab67616d000048519c241fea89446601f29a61e7'},\n",
       " {'artists': ['X Ambassadors'],\n",
       "  'track_id': '7lGKEWMXVWWTt3X71Bv44I',\n",
       "  'name': 'Unsteady',\n",
       "  'preview_url': None,\n",
       "  'image': 'https://i.scdn.co/image/ab67616d0000485152e8aa3275f7a3ee9c1e3628'},\n",
       " {'artists': ['Daughtry'],\n",
       "  'track_id': '4AU7z13HYmPMetlWbq1mys',\n",
       "  'name': 'Waiting for Superman',\n",
       "  'preview_url': 'https://p.scdn.co/mp3-preview/80870a353f952ee3ab8f6bd805b2fdf5bf19bba3?cid=d3f619ebc4e148348b7c292d61418501',\n",
       "  'image': 'https://i.scdn.co/image/ab67616d00004851e491a7df830c0785a6c50daa'},\n",
       " {'artists': ['Selena Gomez & The Scene'],\n",
       "  'track_id': '6dn9ndETOjczUSQO5UhKJa',\n",
       "  'name': 'Who Says',\n",
       "  'preview_url': None,\n",
       "  'image': 'https://i.scdn.co/image/ab67616d000048515d9126f72b4a06c9b9abe2e5'},\n",
       " {'artists': ['Seafret'],\n",
       "  'track_id': '5eXnC2B5RU5fAhfwvV2ABD',\n",
       "  'name': 'Oceans',\n",
       "  'preview_url': 'https://p.scdn.co/mp3-preview/d748265076e84398165e05e932b2f839f05e3fa5?cid=d3f619ebc4e148348b7c292d61418501',\n",
       "  'image': 'https://i.scdn.co/image/ab67616d000048518c33272a7c77042f5eb39d75'},\n",
       " {'artists': ['All Time Low'],\n",
       "  'track_id': '1lAErqCg84I1N4eVgUyDHU',\n",
       "  'name': 'Too Much',\n",
       "  'preview_url': None,\n",
       "  'image': 'https://i.scdn.co/image/ab67616d00004851bd7374cabcaa20422ac046ad'},\n",
       " {'artists': ['Secondhand Serenade'],\n",
       "  'track_id': '5tZJjb0d9dEKmh7C4MDCSc',\n",
       "  'name': 'Shake It Off',\n",
       "  'preview_url': None,\n",
       "  'image': 'https://i.scdn.co/image/ab67616d00004851c93867c28424d041248d4644'},\n",
       " {'artists': [\"Olivia O'Brien\"],\n",
       "  'track_id': '41VVkWYaJmXVxOfYwCOkPU',\n",
       "  'name': \"Find What You're Looking For\",\n",
       "  'preview_url': None,\n",
       "  'image': 'https://i.scdn.co/image/ab67616d00004851e5ec391697c8143b40d80ed4'},\n",
       " {'artists': ['AJR'],\n",
       "  'track_id': '6Ags5yAhSgjLf5yJPV2Khy',\n",
       "  'name': 'Come Hang Out',\n",
       "  'preview_url': 'https://p.scdn.co/mp3-preview/d11151d23728b630d38f2ed34f99bcd4dd74f1c5?cid=d3f619ebc4e148348b7c292d61418501',\n",
       "  'image': 'https://i.scdn.co/image/ab67616d0000485161c463673b84a877ddd2cf9f'},\n",
       " {'artists': ['AJR'],\n",
       "  'track_id': '4vJtOlcnksrbDfZHmI0S74',\n",
       "  'name': 'Turning Out',\n",
       "  'preview_url': None,\n",
       "  'image': 'https://i.scdn.co/image/ab67616d000048519550935852f3ab7dcb3eeea3'},\n",
       " {'artists': ['Dove Cameron', 'Baby Kaely', 'Christina Grimmie'],\n",
       "  'track_id': '5FGSdgxVqsBAMLflQsPMMT',\n",
       "  'name': 'What a Girl Is',\n",
       "  'preview_url': None,\n",
       "  'image': 'https://i.scdn.co/image/ab67616d000048513ac53ef1b7cbfa112c773e59'},\n",
       " {'artists': ['Cody Lovaas'],\n",
       "  'track_id': '6pJJtr3ux2YdUb6tTiIG6D',\n",
       "  'name': 'Alone (Live)',\n",
       "  'preview_url': None,\n",
       "  'image': 'https://i.scdn.co/image/ab67616d000048519aec51c16e2c3ac395e42e32'},\n",
       " {'artists': ['Cody Lovaas'],\n",
       "  'track_id': '41nkPKWbunYtRKRdyvhxbr',\n",
       "  'name': 'Lie',\n",
       "  'preview_url': None,\n",
       "  'image': 'https://i.scdn.co/image/ab67616d00004851af2c4f1f08042eb3ba4b3a68'},\n",
       " {'artists': ['Lemaitre', 'Stanaj'],\n",
       "  'track_id': '2FWHgSAdc6FYVGuSFLHCQU',\n",
       "  'name': 'Playing To Lose - Acoustic',\n",
       "  'preview_url': None,\n",
       "  'image': 'https://i.scdn.co/image/ab67616d00004851395264023630b9e2d062ceae'},\n",
       " {'artists': ['Austin Mahone'],\n",
       "  'track_id': '3KpNRJhe3xEMa1LSfI4wF4',\n",
       "  'name': 'Wait Around',\n",
       "  'preview_url': None,\n",
       "  'image': 'https://i.scdn.co/image/ab67616d0000485161a6ed6445795b547dc3e98f'},\n",
       " {'artists': ['Charlie Puth'],\n",
       "  'track_id': '6GBMbvX7sqyOxT5wWK4hgN',\n",
       "  'name': 'Dangerously',\n",
       "  'preview_url': 'https://p.scdn.co/mp3-preview/a0f2e7a2e610adb6e4de94ed82d95b86eede0787?cid=d3f619ebc4e148348b7c292d61418501',\n",
       "  'image': 'https://i.scdn.co/image/ab67616d000048514fe297c018e495a97662e5ac'}]"
      ]
     },
     "execution_count": 64,
     "metadata": {},
     "output_type": "execute_result"
    }
   ],
   "source": [
    "tracks_in_playlist(sp.current_user()['id'], query_playlist_id('eventually', playlist_list))"
   ]
  },
  {
   "cell_type": "code",
   "execution_count": null,
   "id": "75c5de82",
   "metadata": {},
   "outputs": [],
   "source": []
  }
 ],
 "metadata": {
  "kernelspec": {
   "display_name": "Python 3 (ipykernel)",
   "language": "python",
   "name": "python3"
  },
  "language_info": {
   "codemirror_mode": {
    "name": "ipython",
    "version": 3
   },
   "file_extension": ".py",
   "mimetype": "text/x-python",
   "name": "python",
   "nbconvert_exporter": "python",
   "pygments_lexer": "ipython3",
   "version": "3.12.2"
  }
 },
 "nbformat": 4,
 "nbformat_minor": 5
}
